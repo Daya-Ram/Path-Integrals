{
 "cells": [
  {
   "cell_type": "markdown",
   "metadata": {},
   "source": [
    "# Gaussian Integrals "
   ]
  },
  {
   "cell_type": "markdown",
   "metadata": {},
   "source": [
    "The simplest Gussian Integral is an integral over all space in one dimension of the Gussian function "
   ]
  },
  {
   "cell_type": "markdown",
   "metadata": {},
   "source": [
    "$e^{-x^2}$\n"
   ]
  },
  {
   "cell_type": "markdown",
   "metadata": {},
   "source": [
    "A plot of this function, shown in figure below, shows that it is localized in a small region about the origin\n",
    "![img](https://mathworld.wolfram.com/images/interactive/GaussianReal.gif)"
   ]
  },
  {
   "cell_type": "markdown",
   "metadata": {},
   "source": [
    "As a result, we expect that the integral converges to a small finite value. Unfortunately, there is no elementary way to calculate  "
   ]
  },
  {
   "cell_type": "markdown",
   "metadata": {},
   "source": [
    "\n",
    "$I= \\int_{-\\infty}^{+\\infty}{e^{-x^2}}\\,dx$"
   ]
  },
  {
   "cell_type": "markdown",
   "metadata": {},
   "source": [
    "We must instead use a trick. Now, since x is just the dummy variable when it appears in the integrand, we can call it something else. So, we have, \n",
    "$I^2=\\int_{-\\infty}^{+\\infty}{e^{-x^2}}\\,dx \\int_{-\\infty}^{+\\infty}{e^{-y^2}}\\,dy$"
   ]
  },
  {
   "cell_type": "markdown",
   "metadata": {},
   "source": [
    "or, $I^2=\\int_{-\\infty}^{+\\infty}e^{-(x^2+y^2)}\\,dxdy$"
   ]
  },
  {
   "cell_type": "markdown",
   "metadata": {},
   "source": [
    "Next, we will change to polar coordinates. Recall that,\n",
    "$x=r\\cos\\theta$"
   ]
  },
  {
   "cell_type": "markdown",
   "metadata": {},
   "source": [
    "and $y=r\\sin\\theta$\n"
   ]
  },
  {
   "cell_type": "markdown",
   "metadata": {},
   "source": [
    "and so, $x^2+y^2=r^2\\cos^2\\theta+r^2\\sin^2\\theta=r^2$"
   ]
  },
  {
   "cell_type": "markdown",
   "metadata": {},
   "source": [
    "In transforming to polar coordinates, the element of area changes as,\n",
    "$dxdy\\to {rdr\\theta}$"
   ]
  },
  {
   "cell_type": "markdown",
   "metadata": {},
   "source": [
    "This leads to, \n",
    "$I^2=\\int_0^{2\\pi}d\\theta\\int_0^{\\infty}e^{-r^2}rdr$"
   ]
  },
  {
   "cell_type": "markdown",
   "metadata": {},
   "source": [
    "and we have tamed the exponential term. The integral over r can be handled using a basic substitution $u=r^2$:"
   ]
  },
  {
   "cell_type": "markdown",
   "metadata": {},
   "source": [
    "$\\int_0^\\infty{e^{-r^2}}rdr=\\frac{1}{2}\\int_0^\\infty{e^{-u}du}=\\frac{1}{2}$"
   ]
  },
  {
   "cell_type": "markdown",
   "metadata": {},
   "source": [
    "So, \n",
    "$I^2={\\int_0^{2\\pi}{d\\theta}}{\\int_0^\\infty{e{-r^2}}rdr}=\\frac{1}{2}\\int_0^{2\\pi}{d\\theta}=\\frac{1}{2}2\\pi=\\pi$"
   ]
  },
  {
   "cell_type": "markdown",
   "metadata": {},
   "source": [
    "Taking the square root we obtain the result\n",
    "$I=\\int_{-\\infty}^{+\\infty}{e^{-x^2}}dx=\\sqrt\\pi$"
   ]
  },
  {
   "cell_type": "markdown",
   "metadata": {},
   "source": [
    "This integral can be extended into more complicated situations.Start by considering: $I'=\\int_{-\\infty}^{+\\infty}e^{-\\alpha{x^2}dx}$"
   ]
  },
  {
   "cell_type": "markdown",
   "metadata": {},
   "source": [
    "Let, $\\sqrt{\\alpha}x=y$"
   ]
  },
  {
   "cell_type": "markdown",
   "metadata": {},
   "source": [
    "Then, \n",
    "\n",
    "$I'=\\int_{-\\infty}^{+\\infty}e^{-\\alpha{x^2}}={\\frac{1}{\\sqrt\\alpha}}\\int_{-\\infty}^{+\\infty}e^{-y^2}dy=\\sqrt\\frac{\\pi}{\\alpha}$"
   ]
  },
  {
   "cell_type": "markdown",
   "metadata": {},
   "source": [
    "The next extension of the basic Gaussian Integral is to add powers of x. For example, "
   ]
  },
  {
   "cell_type": "markdown",
   "metadata": {},
   "source": [
    "$I=\\int_{-\\infty}^{+\\infty}x^ne^{-\\alpha{x^2}}dx$"
   ]
  },
  {
   "cell_type": "markdown",
   "metadata": {},
   "source": [
    "If n is odd, it is easy to see that this is just 0. Let n=1.A plot of $f(x)=xe^{-x^2}$ in the figure below shows this is an odd function, so it must integrate to zero since we are integrating over the entire real line."
   ]
  },
  {
   "cell_type": "markdown",
   "metadata": {},
   "source": [
    "![img](https://www.researchgate.net/profile/Zhang_Junhua3/publication/275974111/figure/fig1/AS:613447872040975@1523268778397/Plot-for-y-xe-x-2-The-number-of-solutions-for-xe-x-2-d-is-two-at-most.png)"
   ]
  },
  {
   "cell_type": "markdown",
   "metadata": {},
   "source": [
    "The integration over $(-\\infty,0)$ exactly cancels the integration over$(0,\\infty)$"
   ]
  },
  {
   "cell_type": "markdown",
   "metadata": {},
   "source": [
    "Hence, \n",
    "\n",
    "${I=\\int_{-\\infty}^{+\\infty}x^ne^{-\\alpha{x^2}}dx=0}$ for n odd."
   ]
  },
  {
   "cell_type": "code",
   "execution_count": null,
   "metadata": {},
   "outputs": [],
   "source": []
  }
 ],
 "metadata": {
  "kernelspec": {
   "display_name": "Python 3",
   "language": "python",
   "name": "python3"
  },
  "language_info": {
   "codemirror_mode": {
    "name": "ipython",
    "version": 3
   },
   "file_extension": ".py",
   "mimetype": "text/x-python",
   "name": "python",
   "nbconvert_exporter": "python",
   "pygments_lexer": "ipython3",
   "version": "3.7.6"
  }
 },
 "nbformat": 4,
 "nbformat_minor": 4
}
